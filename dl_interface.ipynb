{
 "cells": [
  {
   "cell_type": "code",
   "execution_count": null,
   "metadata": {},
   "outputs": [],
   "source": [
    "# sample data for data skew before running spark job (5% of it)"
   ]
  },
  {
   "cell_type": "code",
   "execution_count": null,
   "metadata": {},
   "outputs": [],
   "source": [
    "# file formats?\n",
    "# how much data are we processing\n",
    "# do we need intermediate data processing step to avoid skew?\n",
    "# query efficiency?"
   ]
  },
  {
   "cell_type": "code",
   "execution_count": null,
   "metadata": {},
   "outputs": [],
   "source": [
    "# query for song play analysis"
   ]
  },
  {
   "cell_type": "code",
   "execution_count": 1,
   "metadata": {},
   "outputs": [
    {
     "name": "stdout",
     "output_type": "stream",
     "text": [
      "jblackman-bucket-1\n"
     ]
    }
   ],
   "source": [
    "# test access to s3 bucket\n",
    "\n",
    "import boto3\n",
    "\n",
    "dl_session = boto3.Session(profile_name='DLADMIN')\n",
    "\n",
    "s3 = dl_session.resource('s3')\n",
    "for bucket in s3.buckets.all():\n",
    "    print(bucket.name)"
   ]
  }
 ],
 "metadata": {
  "interpreter": {
   "hash": "8f340908d974e6e642b0f24874110ca1fcf85e3e8e95ea0f11995d54a92a2f68"
  },
  "kernelspec": {
   "display_name": "Python 3.9.7 ('data_engineering')",
   "language": "python",
   "name": "python3"
  },
  "language_info": {
   "codemirror_mode": {
    "name": "ipython",
    "version": 3
   },
   "file_extension": ".py",
   "mimetype": "text/x-python",
   "name": "python",
   "nbconvert_exporter": "python",
   "pygments_lexer": "ipython3",
   "version": "3.9.7"
  },
  "orig_nbformat": 4
 },
 "nbformat": 4,
 "nbformat_minor": 2
}
